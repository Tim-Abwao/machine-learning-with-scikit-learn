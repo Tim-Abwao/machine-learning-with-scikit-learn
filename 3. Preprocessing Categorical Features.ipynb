{
 "cells": [
  {
   "cell_type": "markdown",
   "id": "263a6796-5038-4448-95e5-7c93606207a4",
   "metadata": {},
   "source": [
    "[![Binder](https://mybinder.org/badge_logo.svg)](https://mybinder.org/v2/gh/Tim-Abwao/machine-learning-with-scikit-learn/HEAD?labpath=3.%20Preprocessing%20Categorical%20Features.ipynb)\n",
    "[![Open In Colab](https://colab.research.google.com/assets/colab-badge.svg)](https://colab.research.google.com/github/Tim-Abwao/machine-learning-with-scikit-learn/blob/main/3.%20Preprocessing%20Categorical%20Features.ipynb)\n",
    "\n",
    "# Introduction\n",
    "\n",
    "Since machine learning algorithms work with numbers, categorical features have to be encoded into some numeric representation. This can be achieved with:\n",
    "\n",
    "- `OrdinalEncoder`\n",
    "- `OneHotEncoder`\n",
    "- `TargetEncoder`\n",
    "\n",
    "---\n",
    "\n",
    "The *scikit-learn Transformer API* provides the following methods:\n",
    "\n",
    "- `fit`: compute parameters from training data (e.g. $\\mu$ and $\\sigma$ for StandardScaler).\n",
    "- `transform`: convert data.\n",
    "- `fit_transform`: simultaneously apply the `fit` and `transform` steps above.\n",
    "\n",
    "To avoid data leakage, `fit` / `fit_transform` are used only on training data, whereas `transform` is used on test data. Or better yet, the entire *Transformer* is added to a preprocessing pipeline.\n",
    "\n",
    "In the examples below, we'll use `fit_transform` since the goal is solely to demonstrate the effect of the transformations."
   ]
  },
  {
   "cell_type": "code",
   "execution_count": 1,
   "id": "c2d55a80-ac4a-4082-bb7a-a6458e4ca573",
   "metadata": {},
   "outputs": [],
   "source": [
    "import pandas as pd\n",
    "import seaborn as sbn\n",
    "from sklearn.preprocessing import OneHotEncoder, OrdinalEncoder, TargetEncoder"
   ]
  },
  {
   "cell_type": "markdown",
   "id": "480a3e3a-f262-440f-af4e-5bec73313595",
   "metadata": {},
   "source": [
    "# 1. OneHotEncoder\n",
    "\n",
    "Adds a new column ([dummy variable](https://en.wikipedia.org/wiki/Dummy_variable_(statistics))) for each level in a categorical feature. In each row, to indicate presence of a particular category, its respective column is set to 1 while all other related columns are set to 0.\n",
    "\n",
    "Suitable for nominal data (names or labels) where levels have no ranking e.g. hair color, weather (sunny, rainy, cloudy, ...). \n",
    "\n",
    ">**Caution:** Can lead to very sparse data with lots of columns if features have high cardinality ([curse of dimensionality](https://en.wikipedia.org/wiki/Curse_of_dimensionality#Machine_learning))."
   ]
  },
  {
   "cell_type": "code",
   "execution_count": 2,
   "id": "1f181d37-d2d9-4377-b413-22b3d5f3ac42",
   "metadata": {},
   "outputs": [
    {
     "data": {
      "text/html": [
       "<div>\n",
       "<style scoped>\n",
       "    .dataframe tbody tr th:only-of-type {\n",
       "        vertical-align: middle;\n",
       "    }\n",
       "\n",
       "    .dataframe tbody tr th {\n",
       "        vertical-align: top;\n",
       "    }\n",
       "\n",
       "    .dataframe thead th {\n",
       "        text-align: right;\n",
       "    }\n",
       "</style>\n",
       "<table border=\"1\" class=\"dataframe\">\n",
       "  <thead>\n",
       "    <tr style=\"text-align: right;\">\n",
       "      <th></th>\n",
       "      <th>sex</th>\n",
       "      <th>embarked</th>\n",
       "      <th>who</th>\n",
       "      <th>embark_town</th>\n",
       "      <th>alive</th>\n",
       "    </tr>\n",
       "  </thead>\n",
       "  <tbody>\n",
       "    <tr>\n",
       "      <th>0</th>\n",
       "      <td>male</td>\n",
       "      <td>S</td>\n",
       "      <td>man</td>\n",
       "      <td>Southampton</td>\n",
       "      <td>no</td>\n",
       "    </tr>\n",
       "    <tr>\n",
       "      <th>1</th>\n",
       "      <td>female</td>\n",
       "      <td>C</td>\n",
       "      <td>woman</td>\n",
       "      <td>Cherbourg</td>\n",
       "      <td>yes</td>\n",
       "    </tr>\n",
       "    <tr>\n",
       "      <th>2</th>\n",
       "      <td>female</td>\n",
       "      <td>S</td>\n",
       "      <td>woman</td>\n",
       "      <td>Southampton</td>\n",
       "      <td>yes</td>\n",
       "    </tr>\n",
       "    <tr>\n",
       "      <th>3</th>\n",
       "      <td>female</td>\n",
       "      <td>S</td>\n",
       "      <td>woman</td>\n",
       "      <td>Southampton</td>\n",
       "      <td>yes</td>\n",
       "    </tr>\n",
       "    <tr>\n",
       "      <th>4</th>\n",
       "      <td>male</td>\n",
       "      <td>S</td>\n",
       "      <td>man</td>\n",
       "      <td>Southampton</td>\n",
       "      <td>no</td>\n",
       "    </tr>\n",
       "  </tbody>\n",
       "</table>\n",
       "</div>"
      ],
      "text/plain": [
       "      sex embarked    who  embark_town alive\n",
       "0    male        S    man  Southampton    no\n",
       "1  female        C  woman    Cherbourg   yes\n",
       "2  female        S  woman  Southampton   yes\n",
       "3  female        S  woman  Southampton   yes\n",
       "4    male        S    man  Southampton    no"
      ]
     },
     "execution_count": 2,
     "metadata": {},
     "output_type": "execute_result"
    }
   ],
   "source": [
    "titanic_data = sbn.load_dataset(\"titanic\").select_dtypes(\"O\").dropna()\n",
    "titanic_data.head()"
   ]
  },
  {
   "cell_type": "markdown",
   "id": "e8201ad7-de1b-4afc-8a11-cf489e6afc53",
   "metadata": {},
   "source": [
    "For memory efficiency, the default output is in [Compressed Sparse Row matrix](https://docs.scipy.org/doc/scipy/reference/generated/scipy.sparse.csr_matrix.html) format:"
   ]
  },
  {
   "cell_type": "code",
   "execution_count": 3,
   "id": "98c5c0ef-98e5-4c34-b4bf-745bc9b63ad8",
   "metadata": {
    "scrolled": true
   },
   "outputs": [
    {
     "data": {
      "text/plain": [
       "<889x13 sparse matrix of type '<class 'numpy.float64'>'\n",
       "\twith 4445 stored elements in Compressed Sparse Row format>"
      ]
     },
     "execution_count": 3,
     "metadata": {},
     "output_type": "execute_result"
    }
   ],
   "source": [
    "OneHotEncoder().fit_transform(titanic_data)"
   ]
  },
  {
   "cell_type": "code",
   "execution_count": 4,
   "id": "726878f9-cc22-47eb-894c-ec16b4e83aa7",
   "metadata": {},
   "outputs": [
    {
     "data": {
      "text/html": [
       "<div>\n",
       "<style scoped>\n",
       "    .dataframe tbody tr th:only-of-type {\n",
       "        vertical-align: middle;\n",
       "    }\n",
       "\n",
       "    .dataframe tbody tr th {\n",
       "        vertical-align: top;\n",
       "    }\n",
       "\n",
       "    .dataframe thead th {\n",
       "        text-align: right;\n",
       "    }\n",
       "</style>\n",
       "<table border=\"1\" class=\"dataframe\">\n",
       "  <thead>\n",
       "    <tr style=\"text-align: right;\">\n",
       "      <th></th>\n",
       "      <th>sex_female</th>\n",
       "      <th>sex_male</th>\n",
       "      <th>embarked_C</th>\n",
       "      <th>embarked_Q</th>\n",
       "      <th>embarked_S</th>\n",
       "      <th>who_child</th>\n",
       "      <th>who_man</th>\n",
       "      <th>who_woman</th>\n",
       "      <th>embark_town_Cherbourg</th>\n",
       "      <th>embark_town_Queenstown</th>\n",
       "      <th>embark_town_Southampton</th>\n",
       "      <th>alive_no</th>\n",
       "      <th>alive_yes</th>\n",
       "    </tr>\n",
       "  </thead>\n",
       "  <tbody>\n",
       "    <tr>\n",
       "      <th>0</th>\n",
       "      <td>0.0</td>\n",
       "      <td>1.0</td>\n",
       "      <td>0.0</td>\n",
       "      <td>0.0</td>\n",
       "      <td>1.0</td>\n",
       "      <td>0.0</td>\n",
       "      <td>1.0</td>\n",
       "      <td>0.0</td>\n",
       "      <td>0.0</td>\n",
       "      <td>0.0</td>\n",
       "      <td>1.0</td>\n",
       "      <td>1.0</td>\n",
       "      <td>0.0</td>\n",
       "    </tr>\n",
       "    <tr>\n",
       "      <th>1</th>\n",
       "      <td>1.0</td>\n",
       "      <td>0.0</td>\n",
       "      <td>1.0</td>\n",
       "      <td>0.0</td>\n",
       "      <td>0.0</td>\n",
       "      <td>0.0</td>\n",
       "      <td>0.0</td>\n",
       "      <td>1.0</td>\n",
       "      <td>1.0</td>\n",
       "      <td>0.0</td>\n",
       "      <td>0.0</td>\n",
       "      <td>0.0</td>\n",
       "      <td>1.0</td>\n",
       "    </tr>\n",
       "    <tr>\n",
       "      <th>2</th>\n",
       "      <td>1.0</td>\n",
       "      <td>0.0</td>\n",
       "      <td>0.0</td>\n",
       "      <td>0.0</td>\n",
       "      <td>1.0</td>\n",
       "      <td>0.0</td>\n",
       "      <td>0.0</td>\n",
       "      <td>1.0</td>\n",
       "      <td>0.0</td>\n",
       "      <td>0.0</td>\n",
       "      <td>1.0</td>\n",
       "      <td>0.0</td>\n",
       "      <td>1.0</td>\n",
       "    </tr>\n",
       "    <tr>\n",
       "      <th>3</th>\n",
       "      <td>1.0</td>\n",
       "      <td>0.0</td>\n",
       "      <td>0.0</td>\n",
       "      <td>0.0</td>\n",
       "      <td>1.0</td>\n",
       "      <td>0.0</td>\n",
       "      <td>0.0</td>\n",
       "      <td>1.0</td>\n",
       "      <td>0.0</td>\n",
       "      <td>0.0</td>\n",
       "      <td>1.0</td>\n",
       "      <td>0.0</td>\n",
       "      <td>1.0</td>\n",
       "    </tr>\n",
       "    <tr>\n",
       "      <th>4</th>\n",
       "      <td>0.0</td>\n",
       "      <td>1.0</td>\n",
       "      <td>0.0</td>\n",
       "      <td>0.0</td>\n",
       "      <td>1.0</td>\n",
       "      <td>0.0</td>\n",
       "      <td>1.0</td>\n",
       "      <td>0.0</td>\n",
       "      <td>0.0</td>\n",
       "      <td>0.0</td>\n",
       "      <td>1.0</td>\n",
       "      <td>1.0</td>\n",
       "      <td>0.0</td>\n",
       "    </tr>\n",
       "  </tbody>\n",
       "</table>\n",
       "</div>"
      ],
      "text/plain": [
       "   sex_female  sex_male  embarked_C  embarked_Q  embarked_S  who_child  \\\n",
       "0         0.0       1.0         0.0         0.0         1.0        0.0   \n",
       "1         1.0       0.0         1.0         0.0         0.0        0.0   \n",
       "2         1.0       0.0         0.0         0.0         1.0        0.0   \n",
       "3         1.0       0.0         0.0         0.0         1.0        0.0   \n",
       "4         0.0       1.0         0.0         0.0         1.0        0.0   \n",
       "\n",
       "   who_man  who_woman  embark_town_Cherbourg  embark_town_Queenstown  \\\n",
       "0      1.0        0.0                    0.0                     0.0   \n",
       "1      0.0        1.0                    1.0                     0.0   \n",
       "2      0.0        1.0                    0.0                     0.0   \n",
       "3      0.0        1.0                    0.0                     0.0   \n",
       "4      1.0        0.0                    0.0                     0.0   \n",
       "\n",
       "   embark_town_Southampton  alive_no  alive_yes  \n",
       "0                      1.0       1.0        0.0  \n",
       "1                      0.0       0.0        1.0  \n",
       "2                      1.0       0.0        1.0  \n",
       "3                      1.0       0.0        1.0  \n",
       "4                      1.0       1.0        0.0  "
      ]
     },
     "execution_count": 4,
     "metadata": {},
     "output_type": "execute_result"
    }
   ],
   "source": [
    "one_hot_encoder = OneHotEncoder(sparse_output=False)\n",
    "ohe_data = pd.DataFrame(one_hot_encoder.fit_transform(titanic_data),\n",
    "                        columns=one_hot_encoder.get_feature_names_out())\n",
    "ohe_data.head()"
   ]
  },
  {
   "cell_type": "markdown",
   "id": "2f26d5b3-4b1a-42a2-bfad-56704fdd022f",
   "metadata": {},
   "source": [
    "For features with just 2 levels, only one dummy variable is necessary (absence of one level equates to presence of the other). You can achieve this by specifying `drop=\"if_binary\"`:"
   ]
  },
  {
   "cell_type": "code",
   "execution_count": 5,
   "id": "f113dbd8-b4ae-45f2-9a2a-c01b29c507b8",
   "metadata": {},
   "outputs": [
    {
     "data": {
      "text/html": [
       "<div>\n",
       "<style scoped>\n",
       "    .dataframe tbody tr th:only-of-type {\n",
       "        vertical-align: middle;\n",
       "    }\n",
       "\n",
       "    .dataframe tbody tr th {\n",
       "        vertical-align: top;\n",
       "    }\n",
       "\n",
       "    .dataframe thead th {\n",
       "        text-align: right;\n",
       "    }\n",
       "</style>\n",
       "<table border=\"1\" class=\"dataframe\">\n",
       "  <thead>\n",
       "    <tr style=\"text-align: right;\">\n",
       "      <th></th>\n",
       "      <th>sex_male</th>\n",
       "      <th>embarked_C</th>\n",
       "      <th>embarked_Q</th>\n",
       "      <th>embarked_S</th>\n",
       "      <th>who_child</th>\n",
       "      <th>who_man</th>\n",
       "      <th>who_woman</th>\n",
       "      <th>embark_town_Cherbourg</th>\n",
       "      <th>embark_town_Queenstown</th>\n",
       "      <th>embark_town_Southampton</th>\n",
       "      <th>alive_yes</th>\n",
       "    </tr>\n",
       "  </thead>\n",
       "  <tbody>\n",
       "    <tr>\n",
       "      <th>0</th>\n",
       "      <td>1.0</td>\n",
       "      <td>0.0</td>\n",
       "      <td>0.0</td>\n",
       "      <td>1.0</td>\n",
       "      <td>0.0</td>\n",
       "      <td>1.0</td>\n",
       "      <td>0.0</td>\n",
       "      <td>0.0</td>\n",
       "      <td>0.0</td>\n",
       "      <td>1.0</td>\n",
       "      <td>0.0</td>\n",
       "    </tr>\n",
       "    <tr>\n",
       "      <th>1</th>\n",
       "      <td>0.0</td>\n",
       "      <td>1.0</td>\n",
       "      <td>0.0</td>\n",
       "      <td>0.0</td>\n",
       "      <td>0.0</td>\n",
       "      <td>0.0</td>\n",
       "      <td>1.0</td>\n",
       "      <td>1.0</td>\n",
       "      <td>0.0</td>\n",
       "      <td>0.0</td>\n",
       "      <td>1.0</td>\n",
       "    </tr>\n",
       "    <tr>\n",
       "      <th>2</th>\n",
       "      <td>0.0</td>\n",
       "      <td>0.0</td>\n",
       "      <td>0.0</td>\n",
       "      <td>1.0</td>\n",
       "      <td>0.0</td>\n",
       "      <td>0.0</td>\n",
       "      <td>1.0</td>\n",
       "      <td>0.0</td>\n",
       "      <td>0.0</td>\n",
       "      <td>1.0</td>\n",
       "      <td>1.0</td>\n",
       "    </tr>\n",
       "    <tr>\n",
       "      <th>3</th>\n",
       "      <td>0.0</td>\n",
       "      <td>0.0</td>\n",
       "      <td>0.0</td>\n",
       "      <td>1.0</td>\n",
       "      <td>0.0</td>\n",
       "      <td>0.0</td>\n",
       "      <td>1.0</td>\n",
       "      <td>0.0</td>\n",
       "      <td>0.0</td>\n",
       "      <td>1.0</td>\n",
       "      <td>1.0</td>\n",
       "    </tr>\n",
       "    <tr>\n",
       "      <th>4</th>\n",
       "      <td>1.0</td>\n",
       "      <td>0.0</td>\n",
       "      <td>0.0</td>\n",
       "      <td>1.0</td>\n",
       "      <td>0.0</td>\n",
       "      <td>1.0</td>\n",
       "      <td>0.0</td>\n",
       "      <td>0.0</td>\n",
       "      <td>0.0</td>\n",
       "      <td>1.0</td>\n",
       "      <td>0.0</td>\n",
       "    </tr>\n",
       "  </tbody>\n",
       "</table>\n",
       "</div>"
      ],
      "text/plain": [
       "   sex_male  embarked_C  embarked_Q  embarked_S  who_child  who_man  \\\n",
       "0       1.0         0.0         0.0         1.0        0.0      1.0   \n",
       "1       0.0         1.0         0.0         0.0        0.0      0.0   \n",
       "2       0.0         0.0         0.0         1.0        0.0      0.0   \n",
       "3       0.0         0.0         0.0         1.0        0.0      0.0   \n",
       "4       1.0         0.0         0.0         1.0        0.0      1.0   \n",
       "\n",
       "   who_woman  embark_town_Cherbourg  embark_town_Queenstown  \\\n",
       "0        0.0                    0.0                     0.0   \n",
       "1        1.0                    1.0                     0.0   \n",
       "2        1.0                    0.0                     0.0   \n",
       "3        1.0                    0.0                     0.0   \n",
       "4        0.0                    0.0                     0.0   \n",
       "\n",
       "   embark_town_Southampton  alive_yes  \n",
       "0                      1.0        0.0  \n",
       "1                      0.0        1.0  \n",
       "2                      1.0        1.0  \n",
       "3                      1.0        1.0  \n",
       "4                      1.0        0.0  "
      ]
     },
     "execution_count": 5,
     "metadata": {},
     "output_type": "execute_result"
    }
   ],
   "source": [
    "ohe_drop_binary = OneHotEncoder(sparse_output=False, drop=\"if_binary\")\n",
    "ohe_data_drop_binary = pd.DataFrame(ohe_drop_binary.fit_transform(titanic_data),\n",
    "                        columns=ohe_drop_binary.get_feature_names_out())\n",
    "ohe_data_drop_binary.head()"
   ]
  },
  {
   "cell_type": "code",
   "execution_count": 6,
   "id": "1c9bea28-d373-4013-91c2-19aab191eb67",
   "metadata": {},
   "outputs": [
    {
     "data": {
      "text/plain": [
       "{'alive_no', 'sex_female'}"
      ]
     },
     "execution_count": 6,
     "metadata": {},
     "output_type": "execute_result"
    }
   ],
   "source": [
    "set(ohe_data) - set(ohe_data_drop_binary)"
   ]
  },
  {
   "cell_type": "markdown",
   "id": "70a6757c-6a91-4f41-be27-c97495edfc20",
   "metadata": {},
   "source": [
    "If you have *pandas* installed, you could alternatively use the [pandas.get_dummies()](https://pandas.pydata.org/docs/reference/api/pandas.get_dummies.html#pandas.get_dummies) function to one-hot encode data:"
   ]
  },
  {
   "cell_type": "code",
   "execution_count": 7,
   "id": "00e11bed-686b-4766-8b3a-88836c4c2ed8",
   "metadata": {},
   "outputs": [
    {
     "data": {
      "text/html": [
       "<div>\n",
       "<style scoped>\n",
       "    .dataframe tbody tr th:only-of-type {\n",
       "        vertical-align: middle;\n",
       "    }\n",
       "\n",
       "    .dataframe tbody tr th {\n",
       "        vertical-align: top;\n",
       "    }\n",
       "\n",
       "    .dataframe thead th {\n",
       "        text-align: right;\n",
       "    }\n",
       "</style>\n",
       "<table border=\"1\" class=\"dataframe\">\n",
       "  <thead>\n",
       "    <tr style=\"text-align: right;\">\n",
       "      <th></th>\n",
       "      <th>sex_female</th>\n",
       "      <th>sex_male</th>\n",
       "      <th>embarked_C</th>\n",
       "      <th>embarked_Q</th>\n",
       "      <th>embarked_S</th>\n",
       "      <th>who_child</th>\n",
       "      <th>who_man</th>\n",
       "      <th>who_woman</th>\n",
       "      <th>embark_town_Cherbourg</th>\n",
       "      <th>embark_town_Queenstown</th>\n",
       "      <th>embark_town_Southampton</th>\n",
       "      <th>alive_no</th>\n",
       "      <th>alive_yes</th>\n",
       "    </tr>\n",
       "  </thead>\n",
       "  <tbody>\n",
       "    <tr>\n",
       "      <th>0</th>\n",
       "      <td>False</td>\n",
       "      <td>True</td>\n",
       "      <td>False</td>\n",
       "      <td>False</td>\n",
       "      <td>True</td>\n",
       "      <td>False</td>\n",
       "      <td>True</td>\n",
       "      <td>False</td>\n",
       "      <td>False</td>\n",
       "      <td>False</td>\n",
       "      <td>True</td>\n",
       "      <td>True</td>\n",
       "      <td>False</td>\n",
       "    </tr>\n",
       "    <tr>\n",
       "      <th>1</th>\n",
       "      <td>True</td>\n",
       "      <td>False</td>\n",
       "      <td>True</td>\n",
       "      <td>False</td>\n",
       "      <td>False</td>\n",
       "      <td>False</td>\n",
       "      <td>False</td>\n",
       "      <td>True</td>\n",
       "      <td>True</td>\n",
       "      <td>False</td>\n",
       "      <td>False</td>\n",
       "      <td>False</td>\n",
       "      <td>True</td>\n",
       "    </tr>\n",
       "    <tr>\n",
       "      <th>2</th>\n",
       "      <td>True</td>\n",
       "      <td>False</td>\n",
       "      <td>False</td>\n",
       "      <td>False</td>\n",
       "      <td>True</td>\n",
       "      <td>False</td>\n",
       "      <td>False</td>\n",
       "      <td>True</td>\n",
       "      <td>False</td>\n",
       "      <td>False</td>\n",
       "      <td>True</td>\n",
       "      <td>False</td>\n",
       "      <td>True</td>\n",
       "    </tr>\n",
       "    <tr>\n",
       "      <th>3</th>\n",
       "      <td>True</td>\n",
       "      <td>False</td>\n",
       "      <td>False</td>\n",
       "      <td>False</td>\n",
       "      <td>True</td>\n",
       "      <td>False</td>\n",
       "      <td>False</td>\n",
       "      <td>True</td>\n",
       "      <td>False</td>\n",
       "      <td>False</td>\n",
       "      <td>True</td>\n",
       "      <td>False</td>\n",
       "      <td>True</td>\n",
       "    </tr>\n",
       "    <tr>\n",
       "      <th>4</th>\n",
       "      <td>False</td>\n",
       "      <td>True</td>\n",
       "      <td>False</td>\n",
       "      <td>False</td>\n",
       "      <td>True</td>\n",
       "      <td>False</td>\n",
       "      <td>True</td>\n",
       "      <td>False</td>\n",
       "      <td>False</td>\n",
       "      <td>False</td>\n",
       "      <td>True</td>\n",
       "      <td>True</td>\n",
       "      <td>False</td>\n",
       "    </tr>\n",
       "  </tbody>\n",
       "</table>\n",
       "</div>"
      ],
      "text/plain": [
       "   sex_female  sex_male  embarked_C  embarked_Q  embarked_S  who_child  \\\n",
       "0       False      True       False       False        True      False   \n",
       "1        True     False        True       False       False      False   \n",
       "2        True     False       False       False        True      False   \n",
       "3        True     False       False       False        True      False   \n",
       "4       False      True       False       False        True      False   \n",
       "\n",
       "   who_man  who_woman  embark_town_Cherbourg  embark_town_Queenstown  \\\n",
       "0     True      False                  False                   False   \n",
       "1    False       True                   True                   False   \n",
       "2    False       True                  False                   False   \n",
       "3    False       True                  False                   False   \n",
       "4     True      False                  False                   False   \n",
       "\n",
       "   embark_town_Southampton  alive_no  alive_yes  \n",
       "0                     True      True      False  \n",
       "1                    False     False       True  \n",
       "2                     True     False       True  \n",
       "3                     True     False       True  \n",
       "4                     True      True      False  "
      ]
     },
     "execution_count": 7,
     "metadata": {},
     "output_type": "execute_result"
    }
   ],
   "source": [
    "pd.get_dummies(titanic_data).head()"
   ]
  },
  {
   "cell_type": "markdown",
   "id": "60325470-1463-443b-acda-e1e3eaf081f1",
   "metadata": {},
   "source": [
    "# 2. OrdinalEncoder\n",
    "\n",
    "Replaces values in categorical features with integer values ranging from 0 to *n_classes - 1*.\n",
    "\n",
    "Suitable for ordinal data which contains a natural order / ranking e.g. grade, level-of-satisfaction (very bad, bad, fair, good, very good)."
   ]
  },
  {
   "cell_type": "code",
   "execution_count": 8,
   "id": "6f017270-79b5-4a6e-bd28-16f107eccc8f",
   "metadata": {},
   "outputs": [
    {
     "data": {
      "text/html": [
       "<div>\n",
       "<style scoped>\n",
       "    .dataframe tbody tr th:only-of-type {\n",
       "        vertical-align: middle;\n",
       "    }\n",
       "\n",
       "    .dataframe tbody tr th {\n",
       "        vertical-align: top;\n",
       "    }\n",
       "\n",
       "    .dataframe thead th {\n",
       "        text-align: right;\n",
       "    }\n",
       "</style>\n",
       "<table border=\"1\" class=\"dataframe\">\n",
       "  <thead>\n",
       "    <tr style=\"text-align: right;\">\n",
       "      <th></th>\n",
       "      <th>cut</th>\n",
       "      <th>clarity</th>\n",
       "    </tr>\n",
       "  </thead>\n",
       "  <tbody>\n",
       "    <tr>\n",
       "      <th>0</th>\n",
       "      <td>Ideal</td>\n",
       "      <td>SI2</td>\n",
       "    </tr>\n",
       "    <tr>\n",
       "      <th>1</th>\n",
       "      <td>Premium</td>\n",
       "      <td>SI1</td>\n",
       "    </tr>\n",
       "    <tr>\n",
       "      <th>2</th>\n",
       "      <td>Good</td>\n",
       "      <td>VS1</td>\n",
       "    </tr>\n",
       "    <tr>\n",
       "      <th>3</th>\n",
       "      <td>Premium</td>\n",
       "      <td>VS2</td>\n",
       "    </tr>\n",
       "    <tr>\n",
       "      <th>4</th>\n",
       "      <td>Good</td>\n",
       "      <td>SI2</td>\n",
       "    </tr>\n",
       "  </tbody>\n",
       "</table>\n",
       "</div>"
      ],
      "text/plain": [
       "       cut clarity\n",
       "0    Ideal     SI2\n",
       "1  Premium     SI1\n",
       "2     Good     VS1\n",
       "3  Premium     VS2\n",
       "4     Good     SI2"
      ]
     },
     "execution_count": 8,
     "metadata": {},
     "output_type": "execute_result"
    }
   ],
   "source": [
    "diamond_data = sbn.load_dataset(\"diamonds\").loc[:, [\"cut\", \"clarity\"]]\n",
    "diamond_data.head()"
   ]
  },
  {
   "cell_type": "code",
   "execution_count": 9,
   "id": "1c069e0e-edb5-4d80-ab8e-046eb4e5753c",
   "metadata": {},
   "outputs": [
    {
     "data": {
      "text/plain": [
       "array([[2., 3.],\n",
       "       [3., 2.],\n",
       "       [1., 4.],\n",
       "       ...,\n",
       "       [4., 2.],\n",
       "       [3., 3.],\n",
       "       [2., 3.]])"
      ]
     },
     "execution_count": 9,
     "metadata": {},
     "output_type": "execute_result"
    }
   ],
   "source": [
    "ordinal_encoder = OrdinalEncoder()\n",
    "ordinal_encoder.fit_transform(diamond_data)"
   ]
  },
  {
   "cell_type": "code",
   "execution_count": 10,
   "id": "62ddad39-fd48-4801-b87b-5bcd08869ee7",
   "metadata": {},
   "outputs": [
    {
     "data": {
      "text/plain": [
       "[array(['Fair', 'Good', 'Ideal', 'Premium', 'Very Good'], dtype=object),\n",
       " array(['I1', 'IF', 'SI1', 'SI2', 'VS1', 'VS2', 'VVS1', 'VVS2'],\n",
       "       dtype=object)]"
      ]
     },
     "execution_count": 10,
     "metadata": {},
     "output_type": "execute_result"
    }
   ],
   "source": [
    "ordinal_encoder.categories_"
   ]
  },
  {
   "cell_type": "markdown",
   "id": "a4f9281b-a7f1-4ff5-bae5-19eef29c1b2d",
   "metadata": {},
   "source": [
    "> Default category rankings are by default alphabetical, and will likely be wrong. In the above arrays, \"Ideal\" and \"IF\" should be the best (last / rightmost).\n",
    ">\n",
    "> You can specify the proper order using the `categories` argument."
   ]
  },
  {
   "cell_type": "code",
   "execution_count": 11,
   "id": "0fd944c4-55c7-4db3-ae3c-99dbbb65c104",
   "metadata": {},
   "outputs": [
    {
     "data": {
      "text/plain": [
       "array([[4., 2.],\n",
       "       [3., 1.],\n",
       "       [1., 3.],\n",
       "       ...,\n",
       "       [2., 1.],\n",
       "       [3., 2.],\n",
       "       [4., 2.]])"
      ]
     },
     "execution_count": 11,
     "metadata": {},
     "output_type": "execute_result"
    }
   ],
   "source": [
    "cut_levels = [\"Fair\", \"Good\", \"Very Good\", \"Premium\", \"Ideal\"]\n",
    "clarity_levels = [\"I1\", \"SI1\", \"SI2\", \"VS1\", \"VS2\", \"VVS1\", \"VVS2\", \"IF\"]\n",
    "ordinal_encoder = OrdinalEncoder(categories=[cut_levels, clarity_levels])\n",
    "ordinal_encoder.fit_transform(diamond_data)"
   ]
  },
  {
   "cell_type": "code",
   "execution_count": 12,
   "id": "0daeb529-8257-4c45-943e-6a30135aa730",
   "metadata": {},
   "outputs": [
    {
     "data": {
      "text/plain": [
       "[array(['Fair', 'Good', 'Very Good', 'Premium', 'Ideal'], dtype=object),\n",
       " array(['I1', 'SI1', 'SI2', 'VS1', 'VS2', 'VVS1', 'VVS2', 'IF'],\n",
       "       dtype=object)]"
      ]
     },
     "execution_count": 12,
     "metadata": {},
     "output_type": "execute_result"
    }
   ],
   "source": [
    "ordinal_encoder.categories_"
   ]
  },
  {
   "cell_type": "markdown",
   "id": "ba522f97-5300-4821-83e2-87b5bd122fad",
   "metadata": {},
   "source": [
    "# 3. TargetEncoder\n",
    "\n",
    "Uses the target mean conditioned on the categorical feature to encode nominal (unordered) categories with high cardinality e.g. zip code, nationality.\n"
   ]
  },
  {
   "cell_type": "code",
   "execution_count": 13,
   "id": "6ae507ae-4acd-4df5-be11-9dcadd368027",
   "metadata": {},
   "outputs": [
    {
     "data": {
      "text/html": [
       "<div>\n",
       "<style scoped>\n",
       "    .dataframe tbody tr th:only-of-type {\n",
       "        vertical-align: middle;\n",
       "    }\n",
       "\n",
       "    .dataframe tbody tr th {\n",
       "        vertical-align: top;\n",
       "    }\n",
       "\n",
       "    .dataframe thead th {\n",
       "        text-align: right;\n",
       "    }\n",
       "</style>\n",
       "<table border=\"1\" class=\"dataframe\">\n",
       "  <thead>\n",
       "    <tr style=\"text-align: right;\">\n",
       "      <th></th>\n",
       "      <th>origin</th>\n",
       "      <th>name</th>\n",
       "    </tr>\n",
       "  </thead>\n",
       "  <tbody>\n",
       "    <tr>\n",
       "      <th>0</th>\n",
       "      <td>usa</td>\n",
       "      <td>chevrolet chevelle malibu</td>\n",
       "    </tr>\n",
       "    <tr>\n",
       "      <th>1</th>\n",
       "      <td>usa</td>\n",
       "      <td>buick skylark 320</td>\n",
       "    </tr>\n",
       "    <tr>\n",
       "      <th>2</th>\n",
       "      <td>usa</td>\n",
       "      <td>plymouth satellite</td>\n",
       "    </tr>\n",
       "    <tr>\n",
       "      <th>3</th>\n",
       "      <td>usa</td>\n",
       "      <td>amc rebel sst</td>\n",
       "    </tr>\n",
       "    <tr>\n",
       "      <th>4</th>\n",
       "      <td>usa</td>\n",
       "      <td>ford torino</td>\n",
       "    </tr>\n",
       "  </tbody>\n",
       "</table>\n",
       "</div>"
      ],
      "text/plain": [
       "  origin                       name\n",
       "0    usa  chevrolet chevelle malibu\n",
       "1    usa          buick skylark 320\n",
       "2    usa         plymouth satellite\n",
       "3    usa              amc rebel sst\n",
       "4    usa                ford torino"
      ]
     },
     "execution_count": 13,
     "metadata": {},
     "output_type": "execute_result"
    }
   ],
   "source": [
    "mpg_data = sbn.load_dataset(\"mpg\")\n",
    "X = mpg_data[[\"origin\", \"name\"]]\n",
    "y = mpg_data[\"mpg\"]\n",
    "X.head()"
   ]
  },
  {
   "cell_type": "markdown",
   "id": "4fb46f65-1fa7-41ed-9793-fc12cae441c6",
   "metadata": {},
   "source": [
    "The *name* feature has high cardinality:"
   ]
  },
  {
   "cell_type": "code",
   "execution_count": 14,
   "id": "2c804eb0-19b1-4af2-8a6d-48082e35339b",
   "metadata": {},
   "outputs": [
    {
     "data": {
      "text/plain": [
       "origin      3\n",
       "name      305\n",
       "dtype: int64"
      ]
     },
     "execution_count": 14,
     "metadata": {},
     "output_type": "execute_result"
    }
   ],
   "source": [
    "X.nunique()"
   ]
  },
  {
   "cell_type": "code",
   "execution_count": 15,
   "id": "455884bd-ddbc-4474-b1e9-7df0b6c044e3",
   "metadata": {},
   "outputs": [
    {
     "data": {
      "text/plain": [
       "array([[20.04553145, 17.        ],\n",
       "       [20.2560156 , 23.8169279 ],\n",
       "       [20.2560156 , 23.8169279 ],\n",
       "       [20.2560156 , 23.8169279 ],\n",
       "       [20.04553145, 23.50660377]])"
      ]
     },
     "execution_count": 15,
     "metadata": {},
     "output_type": "execute_result"
    }
   ],
   "source": [
    "target_encoder = TargetEncoder()\n",
    "target_encoder.fit_transform(X, y)[:5]"
   ]
  },
  {
   "cell_type": "markdown",
   "id": "5ad11cf8-c192-46a2-933a-03b05b1543da",
   "metadata": {},
   "source": [
    "> Compared to the 2 columns above, one-hot encoding would have resulted in 308 columns."
   ]
  },
  {
   "cell_type": "code",
   "execution_count": 16,
   "id": "e1292583-f842-49fe-ad30-6f08197a0306",
   "metadata": {},
   "outputs": [
    {
     "data": {
      "text/plain": [
       "<398x308 sparse matrix of type '<class 'numpy.float64'>'\n",
       "\twith 796 stored elements in Compressed Sparse Row format>"
      ]
     },
     "execution_count": 16,
     "metadata": {},
     "output_type": "execute_result"
    }
   ],
   "source": [
    "OneHotEncoder().fit_transform(X)"
   ]
  },
  {
   "cell_type": "markdown",
   "id": "28df3ff3-92c9-417b-b687-29b2f0044af5",
   "metadata": {},
   "source": [
    "# 4. Category Encoders Package\n",
    "\n",
    "The [category_encoders][ce] package has a host of additional encoders compatible with *scikit-learn*.\n",
    "\n",
    "[ce]: https://contrib.scikit-learn.org/category_encoders/"
   ]
  }
 ],
 "metadata": {
  "kernelspec": {
   "display_name": "Python 3 (ipykernel)",
   "language": "python",
   "name": "python3"
  },
  "language_info": {
   "codemirror_mode": {
    "name": "ipython",
    "version": 3
   },
   "file_extension": ".py",
   "mimetype": "text/x-python",
   "name": "python",
   "nbconvert_exporter": "python",
   "pygments_lexer": "ipython3",
   "version": "3.11.4"
  }
 },
 "nbformat": 4,
 "nbformat_minor": 5
}
